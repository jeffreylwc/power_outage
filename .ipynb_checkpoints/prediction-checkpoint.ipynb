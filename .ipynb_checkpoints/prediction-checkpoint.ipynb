{
 "cells": [
  {
   "cell_type": "markdown",
   "metadata": {},
   "source": [
    "## Introduction ##"
   ]
  },
  {
   "cell_type": "markdown",
   "metadata": {},
   "source": [
    "In this dataset which contains major power outage data from the US from 2000 through 2016, the characteristics of major outages are analyzed and a model is created using pipelines and lienar regression to predict the severity of a major power outage. The duration of time of major power outages is used as the target variable for predicting based on other columns in the data given such as the climate and the amount of customers affected. This prediction is a regression problem since predicting the duration of time is quantitative and so the objective would be to minimize the root-mean squared error (RMSE). The goal is to have a final model with a lower RMSE than the baseline model. The f1-score would not be an appropriate measure for accuracy for this model because it would be nearly impossible to predict the exact continuous values without transforming the duration column into categorical data, where each category is a range of values. Therefore, the f1-score is not used in this model."
   ]
  },
  {
   "cell_type": "markdown",
   "metadata": {},
   "source": [
    "## Baseline Model ##"
   ]
  },
  {
   "cell_type": "markdown",
   "metadata": {},
   "source": [
    "For the baseline model, five columns are chosen and therefore five features are included to try to predict the duration of major power outages including: 'CUSTOMERS.AFFECTED', 'DEMAND.LOSS.MW', 'CLIMATE.CATEGORY', 'CLIMATE.REGION', and 'MONTH'. The two numerical categories, 'CUSTOMERS.AFFECTED' and 'DEMAND.LOSS.MW', are both like 'OUTAGE.DURATION' in that they relate to the extent of outages. The other three categories are all categorical, so one-hot encoding was used for each. The 'MONTH' column was one-hot encoded instead of using ordinal encoding since the month December does not have a larger magnitude than January based on month alone. The RMSE and R^2 values are useful predictors for the performance of this model. The goal is to find the highest R^2 value and the lowest RMSE to find the measure of the differences between nominal values of the predicted data and the test data."
   ]
  },
  {
   "cell_type": "markdown",
   "metadata": {},
   "source": [
    "## Final Model ##"
   ]
  },
  {
   "cell_type": "markdown",
   "metadata": {},
   "source": [
    "For the model selection of the final model, train-test split was used as it randomizes the data that is used to avoid biases and it helps train the model as accurately as possible. Principal component analysis (PCA) and standard scaler were used on the two additional features to help the model perform better. PCA was used to minimize potential correlation between the different components and to explain as much variance in the outcome variable as possible. Standard scaler was used for the numerical columns to account for the outliers (0 and extremely large numbers) which may skew the data that are to be evaluated. While these two features did noticeably improve the model, the model still had a lower prediction score which is likely due to the fact that the duration of a power outage is dependent on many other factors such as the availability of mechanics to fix the outage and the complexity of the electrical grids, which are not included in the dataset. A power outage could be longer because there is not as much manpower to fix the outage. "
   ]
  },
  {
   "cell_type": "markdown",
   "metadata": {},
   "source": [
    "## Fairness Evaluation ##"
   ]
  },
  {
   "cell_type": "markdown",
   "metadata": {},
   "source": [
    "For the fairness evaluation, the months when the major power outages occur are investigated for their effect on the prediction. With RMSE as the parity measure, the goal is to get the least amount of error as possible. If one model has a higher RMSE than the other, then the model is biased towards the first subset. Permutation test is also used to see the difference between months. The null hypothesis is that there is no difference between the fall months and the other months; all months are equal. On the other hand, the alternative hypothesis is that there is a difference between fall months and other months.  "
   ]
  },
  {
   "cell_type": "markdown",
   "metadata": {},
   "source": [
    "## Setup ##"
   ]
  },
  {
   "cell_type": "code",
   "execution_count": 3,
   "metadata": {},
   "outputs": [],
   "source": [
    "import matplotlib.pyplot as plt\n",
    "import numpy as np\n",
    "import os\n",
    "import pandas as pd\n",
    "import seaborn as sns\n",
    "%matplotlib inline\n",
    "%config InlineBackend.figure_format = 'retina' # Higher resolution figures"
   ]
  },
  {
   "cell_type": "markdown",
   "metadata": {},
   "source": [
    "Some of the imports were not used in the final model but considered in feature engineering."
   ]
  },
  {
   "cell_type": "code",
   "execution_count": 4,
   "metadata": {},
   "outputs": [],
   "source": [
    "import datetime\n",
    "from sklearn.model_selection import train_test_split\n",
    "from sklearn.decomposition import PCA\n",
    "from sklearn.linear_model import LinearRegression\n",
    "from sklearn.preprocessing import OneHotEncoder\n",
    "from sklearn.preprocessing import OrdinalEncoder\n",
    "from sklearn.pipeline import Pipeline\n",
    "from sklearn.compose import ColumnTransformer\n",
    "from sklearn.preprocessing import FunctionTransformer\n",
    "from sklearn.impute import SimpleImputer\n",
    "from sklearn.preprocessing import StandardScaler"
   ]
  },
  {
   "cell_type": "markdown",
   "metadata": {},
   "source": [
    "## Data Cleaning ##"
   ]
  },
  {
   "cell_type": "markdown",
   "metadata": {},
   "source": [
    "This code reads the excel file \"outage\" and sets it to variable \"outage\"."
   ]
  },
  {
   "cell_type": "code",
   "execution_count": 8,
   "metadata": {},
   "outputs": [],
   "source": [
    "outage = pd.read_excel('outage.xlsx')"
   ]
  },
  {
   "cell_type": "markdown",
   "metadata": {},
   "source": [
    "For the first part of cleaning the dataframe, the first 4 rows are removed as they aren't actual data. Then, the columns are set as the variable names, and set 'OBS' as the index."
   ]
  },
  {
   "cell_type": "code",
   "execution_count": 10,
   "metadata": {},
   "outputs": [
    {
     "data": {
      "text/html": [
       "<div>\n",
       "<style scoped>\n",
       "    .dataframe tbody tr th:only-of-type {\n",
       "        vertical-align: middle;\n",
       "    }\n",
       "\n",
       "    .dataframe tbody tr th {\n",
       "        vertical-align: top;\n",
       "    }\n",
       "\n",
       "    .dataframe thead th {\n",
       "        text-align: right;\n",
       "    }\n",
       "</style>\n",
       "<table border=\"1\" class=\"dataframe\">\n",
       "  <thead>\n",
       "    <tr style=\"text-align: right;\">\n",
       "      <th></th>\n",
       "      <th>YEAR</th>\n",
       "      <th>MONTH</th>\n",
       "      <th>U.S._STATE</th>\n",
       "      <th>POSTAL.CODE</th>\n",
       "      <th>NERC.REGION</th>\n",
       "      <th>CLIMATE.REGION</th>\n",
       "      <th>ANOMALY.LEVEL</th>\n",
       "      <th>CLIMATE.CATEGORY</th>\n",
       "      <th>OUTAGE.START.DATE</th>\n",
       "      <th>OUTAGE.START.TIME</th>\n",
       "      <th>...</th>\n",
       "      <th>POPPCT_URBAN</th>\n",
       "      <th>POPPCT_UC</th>\n",
       "      <th>POPDEN_URBAN</th>\n",
       "      <th>POPDEN_UC</th>\n",
       "      <th>POPDEN_RURAL</th>\n",
       "      <th>AREAPCT_URBAN</th>\n",
       "      <th>AREAPCT_UC</th>\n",
       "      <th>PCT_LAND</th>\n",
       "      <th>PCT_WATER_TOT</th>\n",
       "      <th>PCT_WATER_INLAND</th>\n",
       "    </tr>\n",
       "    <tr>\n",
       "      <th>OBS</th>\n",
       "      <th></th>\n",
       "      <th></th>\n",
       "      <th></th>\n",
       "      <th></th>\n",
       "      <th></th>\n",
       "      <th></th>\n",
       "      <th></th>\n",
       "      <th></th>\n",
       "      <th></th>\n",
       "      <th></th>\n",
       "      <th></th>\n",
       "      <th></th>\n",
       "      <th></th>\n",
       "      <th></th>\n",
       "      <th></th>\n",
       "      <th></th>\n",
       "      <th></th>\n",
       "      <th></th>\n",
       "      <th></th>\n",
       "      <th></th>\n",
       "      <th></th>\n",
       "    </tr>\n",
       "  </thead>\n",
       "  <tbody>\n",
       "    <tr>\n",
       "      <td>1</td>\n",
       "      <td>2011</td>\n",
       "      <td>7</td>\n",
       "      <td>Minnesota</td>\n",
       "      <td>MN</td>\n",
       "      <td>MRO</td>\n",
       "      <td>East North Central</td>\n",
       "      <td>-0.3</td>\n",
       "      <td>normal</td>\n",
       "      <td>2011-07-01 00:00:00</td>\n",
       "      <td>17:00:00</td>\n",
       "      <td>...</td>\n",
       "      <td>73.27</td>\n",
       "      <td>15.28</td>\n",
       "      <td>2279</td>\n",
       "      <td>1700.5</td>\n",
       "      <td>18.2</td>\n",
       "      <td>2.14</td>\n",
       "      <td>0.6</td>\n",
       "      <td>91.5927</td>\n",
       "      <td>8.40733</td>\n",
       "      <td>5.47874</td>\n",
       "    </tr>\n",
       "    <tr>\n",
       "      <td>2</td>\n",
       "      <td>2014</td>\n",
       "      <td>5</td>\n",
       "      <td>Minnesota</td>\n",
       "      <td>MN</td>\n",
       "      <td>MRO</td>\n",
       "      <td>East North Central</td>\n",
       "      <td>-0.1</td>\n",
       "      <td>normal</td>\n",
       "      <td>2014-05-11 00:00:00</td>\n",
       "      <td>18:38:00</td>\n",
       "      <td>...</td>\n",
       "      <td>73.27</td>\n",
       "      <td>15.28</td>\n",
       "      <td>2279</td>\n",
       "      <td>1700.5</td>\n",
       "      <td>18.2</td>\n",
       "      <td>2.14</td>\n",
       "      <td>0.6</td>\n",
       "      <td>91.5927</td>\n",
       "      <td>8.40733</td>\n",
       "      <td>5.47874</td>\n",
       "    </tr>\n",
       "    <tr>\n",
       "      <td>3</td>\n",
       "      <td>2010</td>\n",
       "      <td>10</td>\n",
       "      <td>Minnesota</td>\n",
       "      <td>MN</td>\n",
       "      <td>MRO</td>\n",
       "      <td>East North Central</td>\n",
       "      <td>-1.5</td>\n",
       "      <td>cold</td>\n",
       "      <td>2010-10-26 00:00:00</td>\n",
       "      <td>20:00:00</td>\n",
       "      <td>...</td>\n",
       "      <td>73.27</td>\n",
       "      <td>15.28</td>\n",
       "      <td>2279</td>\n",
       "      <td>1700.5</td>\n",
       "      <td>18.2</td>\n",
       "      <td>2.14</td>\n",
       "      <td>0.6</td>\n",
       "      <td>91.5927</td>\n",
       "      <td>8.40733</td>\n",
       "      <td>5.47874</td>\n",
       "    </tr>\n",
       "    <tr>\n",
       "      <td>4</td>\n",
       "      <td>2012</td>\n",
       "      <td>6</td>\n",
       "      <td>Minnesota</td>\n",
       "      <td>MN</td>\n",
       "      <td>MRO</td>\n",
       "      <td>East North Central</td>\n",
       "      <td>-0.1</td>\n",
       "      <td>normal</td>\n",
       "      <td>2012-06-19 00:00:00</td>\n",
       "      <td>04:30:00</td>\n",
       "      <td>...</td>\n",
       "      <td>73.27</td>\n",
       "      <td>15.28</td>\n",
       "      <td>2279</td>\n",
       "      <td>1700.5</td>\n",
       "      <td>18.2</td>\n",
       "      <td>2.14</td>\n",
       "      <td>0.6</td>\n",
       "      <td>91.5927</td>\n",
       "      <td>8.40733</td>\n",
       "      <td>5.47874</td>\n",
       "    </tr>\n",
       "    <tr>\n",
       "      <td>5</td>\n",
       "      <td>2015</td>\n",
       "      <td>7</td>\n",
       "      <td>Minnesota</td>\n",
       "      <td>MN</td>\n",
       "      <td>MRO</td>\n",
       "      <td>East North Central</td>\n",
       "      <td>1.2</td>\n",
       "      <td>warm</td>\n",
       "      <td>2015-07-18 00:00:00</td>\n",
       "      <td>02:00:00</td>\n",
       "      <td>...</td>\n",
       "      <td>73.27</td>\n",
       "      <td>15.28</td>\n",
       "      <td>2279</td>\n",
       "      <td>1700.5</td>\n",
       "      <td>18.2</td>\n",
       "      <td>2.14</td>\n",
       "      <td>0.6</td>\n",
       "      <td>91.5927</td>\n",
       "      <td>8.40733</td>\n",
       "      <td>5.47874</td>\n",
       "    </tr>\n",
       "  </tbody>\n",
       "</table>\n",
       "<p>5 rows × 55 columns</p>\n",
       "</div>"
      ],
      "text/plain": [
       "     YEAR MONTH U.S._STATE POSTAL.CODE NERC.REGION      CLIMATE.REGION  \\\n",
       "OBS                                                                      \n",
       "1    2011     7  Minnesota          MN         MRO  East North Central   \n",
       "2    2014     5  Minnesota          MN         MRO  East North Central   \n",
       "3    2010    10  Minnesota          MN         MRO  East North Central   \n",
       "4    2012     6  Minnesota          MN         MRO  East North Central   \n",
       "5    2015     7  Minnesota          MN         MRO  East North Central   \n",
       "\n",
       "    ANOMALY.LEVEL CLIMATE.CATEGORY    OUTAGE.START.DATE OUTAGE.START.TIME  \\\n",
       "OBS                                                                         \n",
       "1            -0.3           normal  2011-07-01 00:00:00          17:00:00   \n",
       "2            -0.1           normal  2014-05-11 00:00:00          18:38:00   \n",
       "3            -1.5             cold  2010-10-26 00:00:00          20:00:00   \n",
       "4            -0.1           normal  2012-06-19 00:00:00          04:30:00   \n",
       "5             1.2             warm  2015-07-18 00:00:00          02:00:00   \n",
       "\n",
       "     ... POPPCT_URBAN POPPCT_UC POPDEN_URBAN POPDEN_UC POPDEN_RURAL  \\\n",
       "OBS  ...                                                              \n",
       "1    ...        73.27     15.28         2279    1700.5         18.2   \n",
       "2    ...        73.27     15.28         2279    1700.5         18.2   \n",
       "3    ...        73.27     15.28         2279    1700.5         18.2   \n",
       "4    ...        73.27     15.28         2279    1700.5         18.2   \n",
       "5    ...        73.27     15.28         2279    1700.5         18.2   \n",
       "\n",
       "    AREAPCT_URBAN AREAPCT_UC PCT_LAND PCT_WATER_TOT PCT_WATER_INLAND  \n",
       "OBS                                                                   \n",
       "1            2.14        0.6  91.5927       8.40733          5.47874  \n",
       "2            2.14        0.6  91.5927       8.40733          5.47874  \n",
       "3            2.14        0.6  91.5927       8.40733          5.47874  \n",
       "4            2.14        0.6  91.5927       8.40733          5.47874  \n",
       "5            2.14        0.6  91.5927       8.40733          5.47874  \n",
       "\n",
       "[5 rows x 55 columns]"
      ]
     },
     "execution_count": 10,
     "metadata": {},
     "output_type": "execute_result"
    }
   ],
   "source": [
    "columns = outage.iloc[4].values\n",
    "outage.columns = columns\n",
    "outage = outage.drop([0,1,2,3,4,5])\n",
    "outage = outage.set_index(outage['OBS'])\n",
    "outage = outage.drop(columns='variables')\n",
    "outage = outage.drop(columns ='OBS')\n",
    "outage.head()"
   ]
  },
  {
   "cell_type": "markdown",
   "metadata": {},
   "source": [
    "This code creates the new columns \"OUTAGE.RESTORATION\" and \"OUTAGE.START\"."
   ]
  },
  {
   "cell_type": "code",
   "execution_count": 14,
   "metadata": {},
   "outputs": [
    {
     "name": "stdout",
     "output_type": "stream",
     "text": [
      "OBS\n",
      "1   2011-07-01 17:00:00\n",
      "2   2014-05-11 18:38:00\n",
      "3   2010-10-26 20:00:00\n",
      "4   2012-06-19 04:30:00\n",
      "5   2015-07-18 02:00:00\n",
      "Name: OUTAGE.START, dtype: datetime64[ns]\n",
      "OBS\n",
      "1   2011-07-03 20:00:00\n",
      "2   2014-05-11 18:39:00\n",
      "3   2010-10-28 22:00:00\n",
      "4   2012-06-20 23:00:00\n",
      "5   2015-07-19 07:00:00\n",
      "Name: OUTAGE.RESTORATION, dtype: datetime64[ns]\n"
     ]
    }
   ],
   "source": [
    "def turntostring(row):\n",
    "    return str(row['OUTAGE.START.DATE'])\n",
    "def turntostring2(row):\n",
    "    return str(row['OUTAGE.START.TIME'])\n",
    "def fixstart(row):\n",
    "    new = row['OUTAGE.START.DATE'].replace('00:00:00', row['OUTAGE.START.TIME'])\n",
    "    return new\n",
    "outage['OUTAGE.START.DATE'] = outage.apply(turntostring, axis=1)\n",
    "outage['OUTAGE.START.TIME'] = outage.apply(turntostring2, axis=1)\n",
    "outage['OUTAGE.START'] = outage.apply(fixstart,axis=1)\n",
    "outage['OUTAGE.START'] = pd.to_datetime(outage['OUTAGE.START'])\n",
    "outage['OUTAGE.START'].head()\n",
    "\n",
    "def turntostring3(row):\n",
    "    return str(row['OUTAGE.RESTORATION.DATE'])\n",
    "def turntostring4(row):\n",
    "    return str(row['OUTAGE.RESTORATION.TIME'])\n",
    "def fixrestoration(row):\n",
    "    new = row['OUTAGE.RESTORATION.DATE'].replace('00:00:00', row['OUTAGE.RESTORATION.TIME'])\n",
    "    return new\n",
    "\n",
    "outage['OUTAGE.RESTORATION.DATE'] = outage.apply(turntostring3, axis=1)\n",
    "outage['OUTAGE.RESTORATION.TIME'] = outage.apply(turntostring4, axis=1)\n",
    "outage['OUTAGE.RESTORATION'] = outage.apply(fixrestoration,axis=1)\n",
    "outage['OUTAGE.RESTORATION'] = pd.to_datetime(outage['OUTAGE.RESTORATION'])\n",
    "\n",
    "print(outage['OUTAGE.START'].head())\n",
    "print(outage['OUTAGE.RESTORATION'].head())"
   ]
  },
  {
   "cell_type": "markdown",
   "metadata": {},
   "source": [
    "## Baseline Model ##"
   ]
  },
  {
   "cell_type": "markdown",
   "metadata": {},
   "source": [
    "Because all of the datatypes of the dataframe are of type \"object\", The following code changes the\n",
    "data types of each column to their appropriate column so then they can be utilized in the pipeline easier."
   ]
  },
  {
   "cell_type": "code",
   "execution_count": 15,
   "metadata": {},
   "outputs": [
    {
     "data": {
      "text/plain": [
       "YEAR                               object\n",
       "MONTH                              object\n",
       "U.S._STATE                         object\n",
       "POSTAL.CODE                        object\n",
       "NERC.REGION                        object\n",
       "CLIMATE.REGION                     object\n",
       "ANOMALY.LEVEL                     float64\n",
       "CLIMATE.CATEGORY                   object\n",
       "OUTAGE.START.DATE          datetime64[ns]\n",
       "OUTAGE.START.TIME          datetime64[ns]\n",
       "OUTAGE.RESTORATION.DATE    datetime64[ns]\n",
       "OUTAGE.RESTORATION.TIME    datetime64[ns]\n",
       "CAUSE.CATEGORY                     object\n",
       "CAUSE.CATEGORY.DETAIL              object\n",
       "HURRICANE.NAMES                    object\n",
       "OUTAGE.DURATION                   float64\n",
       "DEMAND.LOSS.MW                    float64\n",
       "CUSTOMERS.AFFECTED                float64\n",
       "RES.PRICE                         float64\n",
       "COM.PRICE                         float64\n",
       "IND.PRICE                         float64\n",
       "TOTAL.PRICE                       float64\n",
       "RES.SALES                         float64\n",
       "COM.SALES                         float64\n",
       "IND.SALES                         float64\n",
       "TOTAL.SALES                       float64\n",
       "RES.PERCEN                        float64\n",
       "COM.PERCEN                        float64\n",
       "IND.PERCEN                        float64\n",
       "RES.CUSTOMERS                       int64\n",
       "COM.CUSTOMERS                       int64\n",
       "IND.CUSTOMERS                       int64\n",
       "TOTAL.CUSTOMERS                     int64\n",
       "RES.CUST.PCT                      float64\n",
       "COM.CUST.PCT                      float64\n",
       "IND.CUST.PCT                      float64\n",
       "PC.REALGSP.STATE                    int64\n",
       "PC.REALGSP.USA                      int64\n",
       "PC.REALGSP.REL                    float64\n",
       "PC.REALGSP.CHANGE                 float64\n",
       "UTIL.REALGSP                        int64\n",
       "TOTAL.REALGSP                       int64\n",
       "UTIL.CONTRI                       float64\n",
       "PI.UTIL.OFUSA                     float64\n",
       "POPULATION                          int64\n",
       "POPPCT_URBAN                      float64\n",
       "POPPCT_UC                         float64\n",
       "POPDEN_URBAN                      float64\n",
       "POPDEN_UC                         float64\n",
       "POPDEN_RURAL                      float64\n",
       "AREAPCT_URBAN                     float64\n",
       "AREAPCT_UC                        float64\n",
       "PCT_LAND                          float64\n",
       "PCT_WATER_TOT                     float64\n",
       "PCT_WATER_INLAND                  float64\n",
       "OUTAGE.START               datetime64[ns]\n",
       "OUTAGE.RESTORATION         datetime64[ns]\n",
       "dtype: object"
      ]
     },
     "execution_count": 15,
     "metadata": {},
     "output_type": "execute_result"
    }
   ],
   "source": [
    "outage['MONTH'] = outage['MONTH'].astype(str)\n",
    "outage['YEAR'] = outage['YEAR'].astype(str)\n",
    "outage['OUTAGE.START.TIME'] = pd.to_datetime(outage['OUTAGE.START.TIME'])\n",
    "outage['OUTAGE.START.DATE'] = pd.to_datetime(outage['OUTAGE.START.DATE'])\n",
    "outage['OUTAGE.RESTORATION.DATE'] = pd.to_datetime(outage['OUTAGE.RESTORATION.DATE'])\n",
    "outage['OUTAGE.RESTORATION.TIME'] = pd.to_datetime(outage['OUTAGE.RESTORATION.TIME'])\n",
    "outage['ANOMALY.LEVEL'] = pd.to_numeric(outage['ANOMALY.LEVEL'])\n",
    "outage['OUTAGE.DURATION'] = pd.to_numeric(outage['OUTAGE.DURATION'])\n",
    "outage['DEMAND.LOSS.MW'] = pd.to_numeric(outage['DEMAND.LOSS.MW'])\n",
    "outage['CUSTOMERS.AFFECTED'] = pd.to_numeric(outage['CUSTOMERS.AFFECTED'])\n",
    "outage['RES.PRICE'] = pd.to_numeric(outage['RES.PRICE'])\n",
    "outage['COM.PRICE'] = pd.to_numeric(outage['COM.PRICE'])\n",
    "outage['IND.PRICE'] = pd.to_numeric(outage['IND.PRICE'])\n",
    "outage['TOTAL.PRICE'] = pd.to_numeric(outage['TOTAL.PRICE'])\n",
    "outage['RES.SALES'] = pd.to_numeric(outage['RES.SALES'])\n",
    "outage['COM.SALES'] = pd.to_numeric(outage['COM.SALES'])\n",
    "outage['IND.SALES'] = pd.to_numeric(outage['IND.SALES'])\n",
    "outage['TOTAL.SALES'] = pd.to_numeric(outage['TOTAL.SALES'])\n",
    "outage['RES.PERCEN'] = pd.to_numeric(outage['RES.PERCEN'])\n",
    "outage['COM.PERCEN'] = pd.to_numeric(outage['COM.PERCEN'])\n",
    "outage['IND.PERCEN'] = pd.to_numeric(outage['IND.PERCEN'])\n",
    "outage['RES.CUSTOMERS'] = pd.to_numeric(outage['RES.CUSTOMERS'])\n",
    "outage['COM.CUSTOMERS'] = pd.to_numeric(outage['COM.CUSTOMERS'])\n",
    "outage['IND.CUSTOMERS'] = pd.to_numeric(outage['IND.CUSTOMERS'])\n",
    "outage['TOTAL.CUSTOMERS'] = pd.to_numeric(outage['TOTAL.CUSTOMERS'])\n",
    "outage['RES.CUST.PCT'] = pd.to_numeric(outage['RES.CUST.PCT'])\n",
    "outage['COM.CUST.PCT'] = pd.to_numeric(outage['COM.CUST.PCT'])\n",
    "outage['IND.CUST.PCT'] = pd.to_numeric(outage['IND.CUST.PCT'])\n",
    "outage['PC.REALGSP.STATE'] = pd.to_numeric(outage['PC.REALGSP.STATE'])\n",
    "outage['PC.REALGSP.USA'] = pd.to_numeric(outage['PC.REALGSP.USA'])\n",
    "outage['PC.REALGSP.REL'] = pd.to_numeric(outage['PC.REALGSP.REL'])\n",
    "outage['PC.REALGSP.CHANGE'] = pd.to_numeric(outage['PC.REALGSP.CHANGE'])\n",
    "outage['UTIL.REALGSP'] = pd.to_numeric(outage['UTIL.REALGSP'])\n",
    "outage['TOTAL.REALGSP'] = pd.to_numeric(outage['TOTAL.REALGSP'])\n",
    "outage['UTIL.CONTRI'] = pd.to_numeric(outage['UTIL.CONTRI'])\n",
    "outage['PI.UTIL.OFUSA'] = pd.to_numeric(outage['PI.UTIL.OFUSA'])\n",
    "outage['POPULATION'] = pd.to_numeric(outage['POPULATION'])\n",
    "outage['POPPCT_URBAN'] = pd.to_numeric(outage['POPPCT_URBAN'])\n",
    "outage['POPPCT_UC'] = pd.to_numeric(outage['POPPCT_UC'])\n",
    "outage['POPDEN_URBAN'] = pd.to_numeric(outage['POPDEN_URBAN'])\n",
    "outage['POPDEN_UC'] = pd.to_numeric(outage['POPDEN_UC'])\n",
    "outage['POPDEN_RURAL'] = pd.to_numeric(outage['POPDEN_RURAL'])\n",
    "outage['AREAPCT_URBAN'] = pd.to_numeric(outage['AREAPCT_URBAN'])\n",
    "outage['AREAPCT_UC'] = pd.to_numeric(outage['AREAPCT_UC'])\n",
    "outage['PCT_LAND'] = pd.to_numeric(outage['PCT_LAND'])\n",
    "outage['PCT_WATER_TOT'] = pd.to_numeric(outage['PCT_WATER_TOT'])\n",
    "outage['PCT_WATER_INLAND'] = pd.to_numeric(outage['PCT_WATER_INLAND'])\n",
    "                                                          \n",
    "outage.dtypes"
   ]
  },
  {
   "cell_type": "markdown",
   "metadata": {},
   "source": [
    "The target variable found in the column 'OUTAGE.DURATION' is set equal to the variable \"y_baseline\" and the\n",
    "independent variables are 'CUSTOMERS.AFFECTED', 'DEMAND.LOSS.MW', 'CLIMATE.CATEGORY', 'CLIMATE.REGION', and 'MONTH'.\n",
    "It was assume that the more customers that are affected and the more demand that is lost, the longer the outage must have been. Outages also vary by climate and months of the year."
   ]
  },
  {
   "cell_type": "code",
   "execution_count": 27,
   "metadata": {},
   "outputs": [],
   "source": [
    "X_baseline = outage[['CUSTOMERS.AFFECTED', 'DEMAND.LOSS.MW','CLIMATE.CATEGORY', 'CLIMATE.REGION','MONTH']]\n",
    "y_baseline = outage['OUTAGE.DURATION']\n",
    "y_baseline = y_baseline.fillna(0)"
   ]
  },
  {
   "cell_type": "markdown",
   "metadata": {},
   "source": [
    "This separates the quantitative features from the categorical features."
   ]
  },
  {
   "cell_type": "code",
   "execution_count": 28,
   "metadata": {},
   "outputs": [
    {
     "data": {
      "text/plain": [
       "CUSTOMERS.AFFECTED    float64\n",
       "DEMAND.LOSS.MW        float64\n",
       "CLIMATE.CATEGORY       object\n",
       "CLIMATE.REGION         object\n",
       "MONTH                  object\n",
       "dtype: object"
      ]
     },
     "execution_count": 28,
     "metadata": {},
     "output_type": "execute_result"
    }
   ],
   "source": [
    "types = X_baseline.dtypes\n",
    "categories = types.loc[types == np.object].index\n",
    "nums = types.loc[types != np.object].index\n",
    "types"
   ]
  },
  {
   "cell_type": "markdown",
   "metadata": {},
   "source": [
    "The variable \"pl_baseline\" is the pipeline used for the baseline model. The one-hot encoder is used for the categorical features. Null values are imputed with the string \"NULL\" for the categorical columns and 0 for the quantitative columns."
   ]
  },
  {
   "cell_type": "code",
   "execution_count": 29,
   "metadata": {},
   "outputs": [],
   "source": [
    "cats = Pipeline([\n",
    "    ('imp', SimpleImputer(strategy='constant', fill_value='NULL')),\n",
    "    ('ohe', OneHotEncoder(handle_unknown='ignore', sparse=False))\n",
    "])\n",
    "\n",
    "ct_base = ColumnTransformer([\n",
    "    ('catcols', cats, categories),\n",
    "    ('numcols', SimpleImputer(strategy='constant', fill_value=0), nums)\n",
    "])\n",
    "\n",
    "pl_baseline = Pipeline([('feats', ct_base), ('reg', LinearRegression())])"
   ]
  },
  {
   "cell_type": "markdown",
   "metadata": {},
   "source": [
    "This line of code splits the train and test data for the baseline model, using 25% of the data for the test data."
   ]
  },
  {
   "cell_type": "code",
   "execution_count": 30,
   "metadata": {},
   "outputs": [],
   "source": [
    "X_train, X_test, y_train, y_test = train_test_split(X_baseline, y_baseline, test_size = 0.25)"
   ]
  },
  {
   "cell_type": "markdown",
   "metadata": {},
   "source": [
    "These two lines fit the baseline model and predict the score, which is quite low."
   ]
  },
  {
   "cell_type": "code",
   "execution_count": 31,
   "metadata": {},
   "outputs": [
    {
     "data": {
      "text/plain": [
       "0.1512458268078507"
      ]
     },
     "execution_count": 31,
     "metadata": {},
     "output_type": "execute_result"
    }
   ],
   "source": [
    "pl_baseline.fit(X_train, y_train)\n",
    "pl_baseline.score(X_test, y_test)"
   ]
  },
  {
   "cell_type": "markdown",
   "metadata": {},
   "source": [
    "This finds the root-mean squared error for the baseline model."
   ]
  },
  {
   "cell_type": "code",
   "execution_count": 32,
   "metadata": {},
   "outputs": [
    {
     "data": {
      "text/plain": [
       "9.960457335640442"
      ]
     },
     "execution_count": 32,
     "metadata": {},
     "output_type": "execute_result"
    }
   ],
   "source": [
    "preds_baseline = pl_baseline.predict(X_test)\n",
    "np.sqrt(np.mean(preds_baseline - y_test)**2)"
   ]
  },
  {
   "cell_type": "markdown",
   "metadata": {},
   "source": [
    "Now the baseline model is simulated 200 times to see what the average values are for the predictions and RMSE."
   ]
  },
  {
   "cell_type": "code",
   "execution_count": 33,
   "metadata": {},
   "outputs": [],
   "source": [
    "out = []\n",
    "rmse_list = []\n",
    "for _ in range(200):\n",
    "    X_train, X_test, y_train, y_test = train_test_split(X_baseline, y_baseline, test_size=0.25)\n",
    "    pl_baseline.fit(X_train, y_train)\n",
    "    preds_baseline = pl_baseline.predict(X_test)\n",
    "    out.append(pl_baseline.score(X_test, y_test))\n",
    "    rmse_list.append(np.sqrt(np.mean(preds_baseline - y_test)**2))"
   ]
  },
  {
   "cell_type": "markdown",
   "metadata": {},
   "source": [
    "This displays the average prediction after the 200 simulations done above."
   ]
  },
  {
   "cell_type": "code",
   "execution_count": 34,
   "metadata": {},
   "outputs": [
    {
     "data": {
      "text/plain": [
       "0.0443743721840373"
      ]
     },
     "execution_count": 34,
     "metadata": {},
     "output_type": "execute_result"
    }
   ],
   "source": [
    "sum(out)/len(out)"
   ]
  },
  {
   "cell_type": "code",
   "execution_count": 35,
   "metadata": {},
   "outputs": [
    {
     "data": {
      "text/plain": [
       "267.5611679184652"
      ]
     },
     "execution_count": 35,
     "metadata": {},
     "output_type": "execute_result"
    }
   ],
   "source": [
    "sum(rmse_list)/len(rmse_list)"
   ]
  },
  {
   "cell_type": "markdown",
   "metadata": {},
   "source": [
    "This histogram shows the distribution of the average scores for the baseline model, where the model could seen as \n",
    "not a very good fit but on average is still above 0."
   ]
  },
  {
   "cell_type": "code",
   "execution_count": 36,
   "metadata": {},
   "outputs": [
    {
     "data": {
      "image/png": "[encoded data removed]",
      "text/plain": [
       "<Figure size 432x288 with 1 Axes>"
      ]
     },
     "metadata": {
      "image/png": {
       "height": 263,
       "width": 382
      },
      "needs_background": "light"
     },
     "output_type": "display_data"
    }
   ],
   "source": [
    "pd.Series(out).plot(kind='hist', title='Scores in 200 model builds',bins=20);"
   ]
  },
  {
   "cell_type": "markdown",
   "metadata": {},
   "source": [
    "This histogram shows the distribution of the average RMSE where there is a lot of error in this baseline model."
   ]
  },
  {
   "cell_type": "code",
   "execution_count": 37,
   "metadata": {},
   "outputs": [
    {
     "data": {
      "image/png": "[encoded data removed]",
      "text/plain": [
       "<Figure size 432x288 with 1 Axes>"
      ]
     },
     "metadata": {
      "image/png": {
       "height": 263,
       "width": 382
      },
      "needs_background": "light"
     },
     "output_type": "display_data"
    }
   ],
   "source": [
    "pd.Series(rmse_list).plot(kind='hist', title='RMSE in 200 model builds', bins=20);"
   ]
  },
  {
   "cell_type": "markdown",
   "metadata": {},
   "source": [
    "## Final Model ## "
   ]
  },
  {
   "cell_type": "markdown",
   "metadata": {},
   "source": [
    "For the final model, 'y_final\" was used as the baseline and the column 'CAUSE.CATEGORY' was added as a feature because the severity of the power outage can be partically demined by what caused the power outage. "
   ]
  },
  {
   "cell_type": "code",
   "execution_count": 38,
   "metadata": {},
   "outputs": [],
   "source": [
    "X_final = outage[['CUSTOMERS.AFFECTED', 'DEMAND.LOSS.MW', 'CLIMATE.CATEGORY','MONTH','CLIMATE.REGION', 'CAUSE.CATEGORY']]\n",
    "y_final = outage['OUTAGE.DURATION']\n",
    "y_final = y_final.fillna(0)"
   ]
  },
  {
   "cell_type": "markdown",
   "metadata": {},
   "source": [
    "This code separates the data types between the object types and numerical types."
   ]
  },
  {
   "cell_type": "code",
   "execution_count": 40,
   "metadata": {},
   "outputs": [
    {
     "data": {
      "text/plain": [
       "CUSTOMERS.AFFECTED    float64\n",
       "DEMAND.LOSS.MW        float64\n",
       "CLIMATE.CATEGORY       object\n",
       "MONTH                  object\n",
       "CLIMATE.REGION         object\n",
       "CAUSE.CATEGORY         object\n",
       "dtype: object"
      ]
     },
     "execution_count": 40,
     "metadata": {},
     "output_type": "execute_result"
    }
   ],
   "source": [
    "types_final = X_final.dtypes\n",
    "categories_final = types_final.loc[types_final == np.object].index\n",
    "nums_final = types_final.loc[types_final != np.object].index\n",
    "types_final"
   ]
  },
  {
   "cell_type": "markdown",
   "metadata": {},
   "source": [
    "Here is the final, improved model. The same steps are done as the baseline for the nominal categories not including 'CAUSE.CATEGORY'. For the nominal category 'CAUSE.CATEGORY', principal component analysis is used to minimize possible correlation between its components. For instance, equipment failure and system operability disruption could be similar. Principal component analysis could also prevents over-fitting and reduces the noise. For the quantitative columns, StandardScaler function is added to help account for outliers better and standardizes the data.  "
   ]
  },
  {
   "cell_type": "code",
   "execution_count": null,
   "metadata": {},
   "outputs": [],
   "source": []
  }
 ],
 "metadata": {
  "kernelspec": {
   "display_name": "Python 3",
   "language": "python",
   "name": "python3"
  },
  "language_info": {
   "codemirror_mode": {
    "name": "ipython",
    "version": 3
   },
   "file_extension": ".py",
   "mimetype": "text/x-python",
   "name": "python",
   "nbconvert_exporter": "python",
   "pygments_lexer": "ipython3",
   "version": "3.7.4"
  }
 },
 "nbformat": 4,
 "nbformat_minor": 2
}
